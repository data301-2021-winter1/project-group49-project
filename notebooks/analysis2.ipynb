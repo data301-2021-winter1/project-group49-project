{
 "cells": [
  {
   "cell_type": "code",
   "execution_count": 1,
   "metadata": {},
   "outputs": [],
   "source": [
    "# Aaron Deo"
   ]
  },
  {
   "cell_type": "markdown",
   "metadata": {},
   "source": [
    "## Does Gender and Race affect earnings?\n",
    "\n",
    "In today's society we face a lot of new found social issues surrounding gender and race. I wanted to examine the questions surrounding these social issues and discover if it is true that race and gender affect overall income. My initial hypothese was that since this survey was taken in the United States, whtle men would have a higher chance of making more money over any other gender, race combination."
   ]
  },
  {
   "cell_type": "code",
   "execution_count": 2,
   "metadata": {},
   "outputs": [],
   "source": [
    "import project_functions1\n",
    "df = project_functions1.load_and_process(\"https://archive.ics.uci.edu/ml/machine-learning-databases/adult/adult.data\")\n",
    "df.to_csv(\"dataprocessed.csv\")"
   ]
  },
  {
   "cell_type": "markdown",
   "metadata": {},
   "source": [
    "# Analysis Pipeline\n",
    "\n",
    "How to create the same Dataset:\n",
    "1. Importing\n",
    "    * Import numpy, pandas, matplotlib and seaborn\n",
    "    * Import the csv at https://archive.ics.uci.edu/ml/machine-learning-databases/adult/adult.data using pandas and matplotlib, make sure to include skipinitialspace as there is one in this dataset\n",
    "1. Clean data\n",
    "    * Fill empty values with NaN and drop those values\n",
    "    * Drop any duplicates that may exist\n",
    "1. Wrangle/Process Data\n",
    "    * Drop unecessary columns like Capital Gains Losses and family relationship\n",
    "    * Rename the columns of the dataset since the first row does not include the catagories for each column\n",
    "1. Wrangle/Graphing\n",
    "    * Create a countplot for Income \n",
    "    * Create a countplot for Gender\n",
    "    * Create a dist plot for Age\n",
    "    * Create a value count graph for Race\n",
    "\n",
    "Note: Sometimes you may get an error like \"Tuple does not support attribute head\", to fix this simply restart Jupyter Lab."
   ]
  },
  {
   "cell_type": "code",
   "execution_count": null,
   "metadata": {},
   "outputs": [],
   "source": []
  }
 ],
 "metadata": {
  "kernelspec": {
   "display_name": "Python 3",
   "language": "python",
   "name": "python3"
  },
  "language_info": {
   "codemirror_mode": {
    "name": "ipython",
    "version": 3
   },
   "file_extension": ".py",
   "mimetype": "text/x-python",
   "name": "python",
   "nbconvert_exporter": "python",
   "pygments_lexer": "ipython3",
   "version": "3.9.5"
  }
 },
 "nbformat": 4,
 "nbformat_minor": 4
}
