{
 "cells": [
  {
   "cell_type": "code",
   "execution_count": 2,
   "id": "1fec6c5a-29fb-4e91-b615-d3f84d61c903",
   "metadata": {},
   "outputs": [],
   "source": [
    "import numpy as np\n",
    "import pandas as pd\n",
    "import matplotlib.pyplot as plt\n",
    "import seaborn as sns"
   ]
  },
  {
   "cell_type": "code",
   "execution_count": 9,
   "id": "50bfb0bf-9c53-452f-ba4b-9dc1777f3424",
   "metadata": {},
   "outputs": [
    {
     "data": {
      "text/html": [
       "<div>\n",
       "<style scoped>\n",
       "    .dataframe tbody tr th:only-of-type {\n",
       "        vertical-align: middle;\n",
       "    }\n",
       "\n",
       "    .dataframe tbody tr th {\n",
       "        vertical-align: top;\n",
       "    }\n",
       "\n",
       "    .dataframe thead th {\n",
       "        text-align: right;\n",
       "    }\n",
       "</style>\n",
       "<table border=\"1\" class=\"dataframe\">\n",
       "  <thead>\n",
       "    <tr style=\"text-align: right;\">\n",
       "      <th></th>\n",
       "      <th>Age</th>\n",
       "      <th>WorkClass</th>\n",
       "      <th>Bachelors</th>\n",
       "      <th>Marriage Status</th>\n",
       "      <th>Occupation</th>\n",
       "      <th>Race</th>\n",
       "      <th>Gender</th>\n",
       "      <th>Country of Origin</th>\n",
       "      <th>Income</th>\n",
       "    </tr>\n",
       "  </thead>\n",
       "  <tbody>\n",
       "    <tr>\n",
       "      <th>0</th>\n",
       "      <td>17</td>\n",
       "      <td>Private</td>\n",
       "      <td>9th</td>\n",
       "      <td>Never-married</td>\n",
       "      <td>Craft-repair</td>\n",
       "      <td>White</td>\n",
       "      <td>Male</td>\n",
       "      <td>United-States</td>\n",
       "      <td>&lt;=50K</td>\n",
       "    </tr>\n",
       "    <tr>\n",
       "      <th>1</th>\n",
       "      <td>17</td>\n",
       "      <td>Private</td>\n",
       "      <td>10th</td>\n",
       "      <td>Never-married</td>\n",
       "      <td>Priv-house-serv</td>\n",
       "      <td>White</td>\n",
       "      <td>Male</td>\n",
       "      <td>United-States</td>\n",
       "      <td>&lt;=50K</td>\n",
       "    </tr>\n",
       "    <tr>\n",
       "      <th>2</th>\n",
       "      <td>17</td>\n",
       "      <td>Private</td>\n",
       "      <td>10th</td>\n",
       "      <td>Never-married</td>\n",
       "      <td>Other-service</td>\n",
       "      <td>Amer-Indian-Eskimo</td>\n",
       "      <td>Female</td>\n",
       "      <td>United-States</td>\n",
       "      <td>&lt;=50K</td>\n",
       "    </tr>\n",
       "    <tr>\n",
       "      <th>3</th>\n",
       "      <td>17</td>\n",
       "      <td>Self-emp-not-inc</td>\n",
       "      <td>12th</td>\n",
       "      <td>Never-married</td>\n",
       "      <td>Handlers-cleaners</td>\n",
       "      <td>White</td>\n",
       "      <td>Male</td>\n",
       "      <td>United-States</td>\n",
       "      <td>&lt;=50K</td>\n",
       "    </tr>\n",
       "    <tr>\n",
       "      <th>4</th>\n",
       "      <td>17</td>\n",
       "      <td>Private</td>\n",
       "      <td>HS-grad</td>\n",
       "      <td>Never-married</td>\n",
       "      <td>Other-service</td>\n",
       "      <td>White</td>\n",
       "      <td>Male</td>\n",
       "      <td>United-States</td>\n",
       "      <td>&lt;=50K</td>\n",
       "    </tr>\n",
       "    <tr>\n",
       "      <th>...</th>\n",
       "      <td>...</td>\n",
       "      <td>...</td>\n",
       "      <td>...</td>\n",
       "      <td>...</td>\n",
       "      <td>...</td>\n",
       "      <td>...</td>\n",
       "      <td>...</td>\n",
       "      <td>...</td>\n",
       "      <td>...</td>\n",
       "    </tr>\n",
       "    <tr>\n",
       "      <th>21251</th>\n",
       "      <td>90</td>\n",
       "      <td>Local-gov</td>\n",
       "      <td>Assoc-acdm</td>\n",
       "      <td>Married-civ-spouse</td>\n",
       "      <td>Adm-clerical</td>\n",
       "      <td>Asian-Pac-Islander</td>\n",
       "      <td>Male</td>\n",
       "      <td>Philippines</td>\n",
       "      <td>&lt;=50K</td>\n",
       "    </tr>\n",
       "    <tr>\n",
       "      <th>21252</th>\n",
       "      <td>90</td>\n",
       "      <td>Private</td>\n",
       "      <td>10th</td>\n",
       "      <td>Married-civ-spouse</td>\n",
       "      <td>Exec-managerial</td>\n",
       "      <td>White</td>\n",
       "      <td>Male</td>\n",
       "      <td>United-States</td>\n",
       "      <td>&lt;=50K</td>\n",
       "    </tr>\n",
       "    <tr>\n",
       "      <th>21253</th>\n",
       "      <td>90</td>\n",
       "      <td>?</td>\n",
       "      <td>1st-4th</td>\n",
       "      <td>Widowed</td>\n",
       "      <td>?</td>\n",
       "      <td>Black</td>\n",
       "      <td>Female</td>\n",
       "      <td>United-States</td>\n",
       "      <td>&lt;=50K</td>\n",
       "    </tr>\n",
       "    <tr>\n",
       "      <th>21254</th>\n",
       "      <td>90</td>\n",
       "      <td>Private</td>\n",
       "      <td>HS-grad</td>\n",
       "      <td>Widowed</td>\n",
       "      <td>Adm-clerical</td>\n",
       "      <td>White</td>\n",
       "      <td>Female</td>\n",
       "      <td>United-States</td>\n",
       "      <td>&lt;=50K</td>\n",
       "    </tr>\n",
       "    <tr>\n",
       "      <th>21255</th>\n",
       "      <td>90</td>\n",
       "      <td>Private</td>\n",
       "      <td>Bachelors</td>\n",
       "      <td>Never-married</td>\n",
       "      <td>Exec-managerial</td>\n",
       "      <td>White</td>\n",
       "      <td>Male</td>\n",
       "      <td>United-States</td>\n",
       "      <td>&lt;=50K</td>\n",
       "    </tr>\n",
       "  </tbody>\n",
       "</table>\n",
       "<p>21256 rows × 9 columns</p>\n",
       "</div>"
      ],
      "text/plain": [
       "       Age         WorkClass   Bachelors     Marriage Status  \\\n",
       "0       17           Private         9th       Never-married   \n",
       "1       17           Private        10th       Never-married   \n",
       "2       17           Private        10th       Never-married   \n",
       "3       17  Self-emp-not-inc        12th       Never-married   \n",
       "4       17           Private     HS-grad       Never-married   \n",
       "...    ...               ...         ...                 ...   \n",
       "21251   90         Local-gov  Assoc-acdm  Married-civ-spouse   \n",
       "21252   90           Private        10th  Married-civ-spouse   \n",
       "21253   90                 ?     1st-4th             Widowed   \n",
       "21254   90           Private     HS-grad             Widowed   \n",
       "21255   90           Private   Bachelors       Never-married   \n",
       "\n",
       "              Occupation                Race  Gender Country of Origin Income  \n",
       "0           Craft-repair               White    Male     United-States  <=50K  \n",
       "1        Priv-house-serv               White    Male     United-States  <=50K  \n",
       "2          Other-service  Amer-Indian-Eskimo  Female     United-States  <=50K  \n",
       "3      Handlers-cleaners               White    Male     United-States  <=50K  \n",
       "4          Other-service               White    Male     United-States  <=50K  \n",
       "...                  ...                 ...     ...               ...    ...  \n",
       "21251       Adm-clerical  Asian-Pac-Islander    Male       Philippines  <=50K  \n",
       "21252    Exec-managerial               White    Male     United-States  <=50K  \n",
       "21253                  ?               Black  Female     United-States  <=50K  \n",
       "21254       Adm-clerical               White  Female     United-States  <=50K  \n",
       "21255    Exec-managerial               White    Male     United-States  <=50K  \n",
       "\n",
       "[21256 rows x 9 columns]"
      ]
     },
     "metadata": {},
     "output_type": "display_data"
    }
   ],
   "source": [
    "#Load Data and Cleaning Data\n",
    "dataset = pd.read_csv(\"https://archive.ics.uci.edu/ml/machine-learning-databases/adult/adult.data\", skipinitialspace=True)\n",
    "dataset = dataset.drop(['77516','13','2174','0', 'Not-in-family', '40'],axis=1)\n",
    "dataset = dataset.rename(columns={'39': 'Age', 'State-gov': 'WorkClass',' Bachelors': 'Education', 'Never-married': 'Marriage Status', 'Adm-clerical': 'Occupation', 'Not-in-family': 'Relationship', 'White': 'Race', 'Male': 'Gender','United-States': 'Country of Origin', '<=50K': 'Income'})\n",
    "dataset = dataset.fillna(np.nan)\n",
    "dataset = dataset.drop_duplicates()\n",
    "dataset = dataset.dropna()\n",
    "dataset = dataset.sort_values(\"Age\", ascending=True)\n",
    "dataset = dataset.reset_index()\n",
    "dataset = dataset.drop(columns=['index'])\n",
    "dataset.shape\n",
    "dataset.head()\n",
    "dataset.columns\n",
    "display(dataset)\n"
   ]
  },
  {
   "cell_type": "markdown",
   "id": "451254c6-d94c-4fa6-8082-80c933ee66a0",
   "metadata": {},
   "source": [
    "# Analysis Pipeline\n",
    "\n",
    "How to create the same Dataset:\n",
    "1. Importing\n",
    "    * Import numpy, pandas, matplotlib and seaborn\n",
    "    * Import the csv at https://archive.ics.uci.edu/ml/machine-learning-databases/adult/adult.data using pandas and matplotlib, make sure to include skipinitialspace as there is one in this dataset\n",
    "1. Clean data\n",
    "    * Fill empty values with NaN and drop those values\n",
    "    * Drop any duplicates that may exist\n",
    "1. Wrangle/Process Data\n",
    "    * Drop unecessary columns like Capital Gains Losses and family relationship\n",
    "    * Rename the columns of the dataset since the first row does not include the catagories for each column\n",
    "    * Sorting the age by ascending order, makes age based graphs more easier and allows us to see max and min age\n",
    "    * Be sure to reset index and drop the newly created index column\n",
    "1. Wrangle/Graphing\n",
    "    * Create a countplot for Income \n",
    "    * Create a countplot for Gender\n",
    "    * Create a dist plot for Age\n",
    "    * Create a value count graph for Race\n",
    "\n",
    "Note: Sometimes you may get an error like \"Tuple does not support attribute head\", to fix this simply restart Jupyter Lab.\n"
   ]
  },
  {
   "cell_type": "code",
   "execution_count": 4,
   "id": "f5bfaf01-e3ea-4046-8e72-d54594d4d430",
   "metadata": {},
   "outputs": [],
   "source": [
    "def load_and_process(url_or_path_to_csv_file):\n",
    "    dataset = (\n",
    "        pd.read_csv(url_or_path_to_csv_file, skipinitialspace=True)\n",
    "           .rename(columns={'39': 'Age', 'State-gov': 'WorkClass', '77516': 'fnlwgt', ' Bachelors': 'Education', 'Never-married': 'Marriage Status', 'Adm-clerical': 'Occupation', 'Not-in-family': 'Relationship', 'White': 'Race', 'Male': 'Gender', '2174': 'Capital Gain', ' 0': 'Capital Loss', '40': 'Hours Worked Per Week', 'United-States': 'Country of Origin', '<=50K': 'Income'})\n",
    "            .drop(['77516','13','2174','0', 'Not-in-family', '40'],axis=1)\n",
    "            .fillna(np.nan)\n",
    "            .drop_duplicates()\n",
    "            .dropna()\n",
    "            .sort_values(\"Age\", ascending=True)\n",
    "            .reset_index()\n",
    "            .drop(columns=['index'])\n",
    "    )\n",
    "    return dataset\n",
    "        \n",
    "    "
   ]
  },
  {
   "cell_type": "code",
   "execution_count": 5,
   "id": "72d92866-414d-467d-a84f-6481eb3dc130",
   "metadata": {},
   "outputs": [
    {
     "name": "stderr",
     "output_type": "stream",
     "text": [
      "/opt/miniconda3/lib/python3.9/site-packages/seaborn/_decorators.py:36: FutureWarning: Pass the following variable as a keyword arg: x. From version 0.12, the only valid positional argument will be `data`, and passing other arguments without an explicit keyword will result in an error or misinterpretation.\n",
      "  warnings.warn(\n"
     ]
    },
    {
     "data": {
      "text/plain": [
       "<AxesSubplot:xlabel='Income', ylabel='count'>"
      ]
     },
     "execution_count": 5,
     "metadata": {},
     "output_type": "execute_result"
    },
    {
     "data": {
      "image/png": "[encoded data removed]",
      "text/plain": [
       "<Figure size 432x288 with 1 Axes>"
      ]
     },
     "metadata": {
      "needs_background": "light"
     },
     "output_type": "display_data"
    }
   ],
   "source": [
    "#Data Processing\n",
    "\n",
    "sns.countplot(dataset['Income'],label=\"Income Distribution\")"
   ]
  },
  {
   "cell_type": "code",
   "execution_count": 6,
   "id": "7e52039a-e9c3-466a-bd92-301ae733fb40",
   "metadata": {},
   "outputs": [
    {
     "name": "stderr",
     "output_type": "stream",
     "text": [
      "/opt/miniconda3/lib/python3.9/site-packages/seaborn/_decorators.py:36: FutureWarning: Pass the following variable as a keyword arg: x. From version 0.12, the only valid positional argument will be `data`, and passing other arguments without an explicit keyword will result in an error or misinterpretation.\n",
      "  warnings.warn(\n"
     ]
    },
    {
     "data": {
      "text/plain": [
       "<AxesSubplot:xlabel='Gender', ylabel='count'>"
      ]
     },
     "execution_count": 6,
     "metadata": {},
     "output_type": "execute_result"
    },
    {
     "data": {
      "image/png": "[encoded data removed]",
      "text/plain": [
       "<Figure size 432x288 with 1 Axes>"
      ]
     },
     "metadata": {
      "needs_background": "light"
     },
     "output_type": "display_data"
    }
   ],
   "source": [
    "#Data Processing\n",
    "\n",
    "sns.countplot(dataset['Gender'],label=\"Gender Distribution\")"
   ]
  },
  {
   "cell_type": "code",
   "execution_count": 7,
   "id": "b11eee7a-6caa-4c2b-89ca-d3c0051d0cfb",
   "metadata": {},
   "outputs": [
    {
     "name": "stderr",
     "output_type": "stream",
     "text": [
      "/opt/miniconda3/lib/python3.9/site-packages/seaborn/distributions.py:2619: FutureWarning: `distplot` is a deprecated function and will be removed in a future version. Please adapt your code to use either `displot` (a figure-level function with similar flexibility) or `histplot` (an axes-level function for histograms).\n",
      "  warnings.warn(msg, FutureWarning)\n"
     ]
    },
    {
     "data": {
      "text/plain": [
       "<AxesSubplot:xlabel='Age', ylabel='Density'>"
      ]
     },
     "execution_count": 7,
     "metadata": {},
     "output_type": "execute_result"
    },
    {
     "data": {
      "image/png": "[encoded data removed]",
      "text/plain": [
       "<Figure size 432x288 with 1 Axes>"
      ]
     },
     "metadata": {
      "needs_background": "light"
     },
     "output_type": "display_data"
    }
   ],
   "source": [
    "sns.distplot(dataset[\"Age\"])"
   ]
  },
  {
   "cell_type": "code",
   "execution_count": 8,
   "id": "9d82bca7-c615-4144-89d2-e723e240bc08",
   "metadata": {},
   "outputs": [
    {
     "data": {
      "text/plain": [
       "<AxesSubplot:>"
      ]
     },
     "execution_count": 8,
     "metadata": {},
     "output_type": "execute_result"
    },
    {
     "data": {
      "image/png": "[encoded data removed]",
      "text/plain": [
       "<Figure size 720x360 with 1 Axes>"
      ]
     },
     "metadata": {
      "needs_background": "light"
     },
     "output_type": "display_data"
    }
   ],
   "source": [
    "dataset.Race.value_counts().plot(kind='bar', figsize=(10,5))"
   ]
  },
  {
   "cell_type": "markdown",
   "id": "d167571e-04ef-4d8f-a7a2-d8fd737a342a",
   "metadata": {},
   "source": [
    "# EDA\n",
    "The question I want to research is wether there is a correlation between Income and Gender and Income and Race. To try to tackle this question I plotted the data given so I could get a better scope of the data I was using. \n",
    "\n",
    "At first I wanted to do an analysis on wether older people made more money than younger people so, I plotted a graph which showed the age density in the dataset. This showed that there was a stronger density around middle age people and therefore may make my data on older people less reliable since there is a smaller pool of data to analyse. I decided not to do an analysis because of this reason.\n",
    "\n",
    "As for the Gender graphs I wanted to see if they were directly proportional which in this Census data, it was not. There were almost double the amount of men than women in the pool. With the under representation of women the data may not be as precise as to the true income of women compared to men, I would probably need to use percentages instead of simply counting values to represent the difference in wage between men and women. \n",
    "\n",
    "The income graph tells the same story, there is an over representation is people making under 50k. This data makes sense since the average income in the USA was 34,076$ (https://www.census.gov/library/publications/1996/demo/p60-193.html) . Observing the gender and income graphs we can see that the highest representation is of males and making over 50k which could represent the possibility of men making more than women. \n",
    "\n",
    "After graphing the representations of different races, there are much more white people represented in the census data than any other race. I believe this is because this census data was taken in the 90s. If this census data were to be taken today, there would be a much higher representation of other races due to immigration. With this gathered data, I hypothesize that White men would make the most amount of money since they are the majority in both race and gender.\n",
    "\n"
   ]
  },
  {
   "cell_type": "code",
   "execution_count": null,
   "id": "582d17ab-7010-4874-84a6-242879308787",
   "metadata": {},
   "outputs": [],
   "source": []
  }
 ],
 "metadata": {
  "kernelspec": {
   "display_name": "Python 3 (ipykernel)",
   "language": "python",
   "name": "python3"
  },
  "language_info": {
   "codemirror_mode": {
    "name": "ipython",
    "version": 3
   },
   "file_extension": ".py",
   "mimetype": "text/x-python",
   "name": "python",
   "nbconvert_exporter": "python",
   "pygments_lexer": "ipython3",
   "version": "3.9.5"
  }
 },
 "nbformat": 4,
 "nbformat_minor": 5
}
