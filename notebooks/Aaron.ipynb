{
 "cells": [
  {
   "cell_type": "code",
   "execution_count": 2,
   "id": "1fec6c5a-29fb-4e91-b615-d3f84d61c903",
   "metadata": {},
   "outputs": [],
   "source": [
    "import numpy as np\n",
    "import pandas as pd\n",
    "import matplotlib.pyplot as plt\n",
    "import seaborn as sns"
   ]
  },
  {
   "cell_type": "code",
   "execution_count": 3,
   "id": "50bfb0bf-9c53-452f-ba4b-9dc1777f3424",
   "metadata": {},
   "outputs": [
    {
     "ename": "AttributeError",
     "evalue": "'tuple' object has no attribute 'head'",
     "output_type": "error",
     "traceback": [
      "\u001b[0;31m---------------------------------------------------------------------------\u001b[0m",
      "\u001b[0;31mAttributeError\u001b[0m                            Traceback (most recent call last)",
      "\u001b[0;32m<ipython-input-3-f4729ce79f14>\u001b[0m in \u001b[0;36m<module>\u001b[0;34m\u001b[0m\n\u001b[1;32m      1\u001b[0m \u001b[0;31m#Load Data and Cleaning Data\u001b[0m\u001b[0;34m\u001b[0m\u001b[0;34m\u001b[0m\u001b[0;34m\u001b[0m\u001b[0m\n\u001b[1;32m      2\u001b[0m dataset1 = (\n\u001b[0;32m----> 3\u001b[0;31m             \u001b[0mpd\u001b[0m\u001b[0;34m.\u001b[0m\u001b[0mread_csv\u001b[0m\u001b[0;34m(\u001b[0m\u001b[0;34m\"https://archive.ics.uci.edu/ml/machine-learning-databases/adult/adult.data\"\u001b[0m\u001b[0;34m,\u001b[0m \u001b[0mskipinitialspace\u001b[0m\u001b[0;34m=\u001b[0m\u001b[0;32mTrue\u001b[0m\u001b[0;34m)\u001b[0m\u001b[0;34m\u001b[0m\u001b[0;34m\u001b[0m\u001b[0m\n\u001b[0m\u001b[1;32m      4\u001b[0m            \u001b[0;34m.\u001b[0m\u001b[0mrename\u001b[0m\u001b[0;34m(\u001b[0m\u001b[0mcolumns\u001b[0m\u001b[0;34m=\u001b[0m\u001b[0;34m{\u001b[0m\u001b[0;34m'39'\u001b[0m\u001b[0;34m:\u001b[0m \u001b[0;34m'Age'\u001b[0m\u001b[0;34m,\u001b[0m \u001b[0;34m'State-gov'\u001b[0m\u001b[0;34m:\u001b[0m \u001b[0;34m'WorkClass'\u001b[0m\u001b[0;34m,\u001b[0m \u001b[0;34m'77516'\u001b[0m\u001b[0;34m:\u001b[0m \u001b[0;34m'fnlwgt'\u001b[0m\u001b[0;34m,\u001b[0m \u001b[0;34m' Bachelors'\u001b[0m\u001b[0;34m:\u001b[0m \u001b[0;34m'Education'\u001b[0m\u001b[0;34m,\u001b[0m \u001b[0;34m'Never-married'\u001b[0m\u001b[0;34m:\u001b[0m \u001b[0;34m'Marriage Status'\u001b[0m\u001b[0;34m,\u001b[0m \u001b[0;34m'Adm-clerical'\u001b[0m\u001b[0;34m:\u001b[0m \u001b[0;34m'Occupation'\u001b[0m\u001b[0;34m,\u001b[0m \u001b[0;34m'Not-in-family'\u001b[0m\u001b[0;34m:\u001b[0m \u001b[0;34m'Relationship'\u001b[0m\u001b[0;34m,\u001b[0m \u001b[0;34m'White'\u001b[0m\u001b[0;34m:\u001b[0m \u001b[0;34m'Race'\u001b[0m\u001b[0;34m,\u001b[0m \u001b[0;34m'Male'\u001b[0m\u001b[0;34m:\u001b[0m \u001b[0;34m'Gender'\u001b[0m\u001b[0;34m,\u001b[0m \u001b[0;34m'2174'\u001b[0m\u001b[0;34m:\u001b[0m \u001b[0;34m'Capital Gain'\u001b[0m\u001b[0;34m,\u001b[0m \u001b[0;34m' 0'\u001b[0m\u001b[0;34m:\u001b[0m \u001b[0;34m'Capital Loss'\u001b[0m\u001b[0;34m,\u001b[0m \u001b[0;34m'40'\u001b[0m\u001b[0;34m:\u001b[0m \u001b[0;34m'Hours Worked Per Week'\u001b[0m\u001b[0;34m,\u001b[0m \u001b[0;34m'United-States'\u001b[0m\u001b[0;34m:\u001b[0m \u001b[0;34m'Country of Origin'\u001b[0m\u001b[0;34m,\u001b[0m \u001b[0;34m'<=50K'\u001b[0m\u001b[0;34m:\u001b[0m \u001b[0;34m'Income'\u001b[0m\u001b[0;34m}\u001b[0m\u001b[0;34m)\u001b[0m\u001b[0;34m\u001b[0m\u001b[0;34m\u001b[0m\u001b[0m\n\u001b[1;32m      5\u001b[0m            \u001b[0;34m.\u001b[0m\u001b[0mfillna\u001b[0m\u001b[0;34m(\u001b[0m\u001b[0mnp\u001b[0m\u001b[0;34m.\u001b[0m\u001b[0mnan\u001b[0m\u001b[0;34m)\u001b[0m\u001b[0;34m\u001b[0m\u001b[0;34m\u001b[0m\u001b[0m\n",
      "\u001b[0;31mAttributeError\u001b[0m: 'tuple' object has no attribute 'head'"
     ]
    }
   ],
   "source": [
    "#Load Data and Cleaning Data\n",
    "dataset1 = (\n",
    "            pd.read_csv(\"https://archive.ics.uci.edu/ml/machine-learning-databases/adult/adult.data\", skipinitialspace=True)\n",
    "           .rename(columns={'39': 'Age', 'State-gov': 'WorkClass', '77516': 'fnlwgt', ' Bachelors': 'Education', 'Never-married': 'Marriage Status', 'Adm-clerical': 'Occupation', 'Not-in-family': 'Relationship', 'White': 'Race', 'Male': 'Gender', '2174': 'Capital Gain', ' 0': 'Capital Loss', '40': 'Hours Worked Per Week', 'United-States': 'Country of Origin', '<=50K': 'Income'})\n",
    "           .fillna(np.nan)\n",
    "           .shape\n",
    "            .head()\n",
    "           .columns\n",
    "           .dtypes\n",
    "          )\n",
    "display(dataset1)"
   ]
  },
  {
   "cell_type": "code",
   "execution_count": null,
   "id": "f5bfaf01-e3ea-4046-8e72-d54594d4d430",
   "metadata": {},
   "outputs": [],
   "source": [
    "def load_and_process(url_or_path_to_csv_file):\n",
    "    dataset1 = (\n",
    "            pd.read_csv(url_or_path_to_csv_file, skipinitialspace=True)\n",
    "           .rename(columns={'39': 'Age', 'State-gov': 'WorkClass', '77516': 'fnlwgt', ' Bachelors': 'Education', 'Never-married': 'Marriage Status', 'Adm-clerical': 'Occupation', 'Not-in-family': 'Relationship', 'White': 'Race', 'Male': 'Gender', '2174': 'Capital Gain', ' 0': 'Capital Loss', '40': 'Hours Worked Per Week', 'United-States': 'Country of Origin', '<=50K': 'Income'})\n",
    "           .fillna(np.nan)\n",
    "           .shape\n",
    "            .head()\n",
    "           .columns\n",
    "           .dtypes\n",
    "          )\n",
    "    dataset = (\n",
    "        dataset1['Income'] = dataset1[\"Income\"].map({'<=50K': 1, '>50K': 0})\n",
    "        dataset1['Gender'] = dataset1[\"Gender\"].map({'Male': 1, 'Female': 0})\n",
    "    )\n",
    "    return dataset\n",
    "        \n",
    "    "
   ]
  },
  {
   "cell_type": "code",
   "execution_count": 12,
   "id": "72d92866-414d-467d-a84f-6481eb3dc130",
   "metadata": {},
   "outputs": [
    {
     "name": "stderr",
     "output_type": "stream",
     "text": [
      "/opt/miniconda3/lib/python3.9/site-packages/seaborn/_decorators.py:36: FutureWarning: Pass the following variable as a keyword arg: x. From version 0.12, the only valid positional argument will be `data`, and passing other arguments without an explicit keyword will result in an error or misinterpretation.\n",
      "  warnings.warn(\n"
     ]
    },
    {
     "data": {
      "text/plain": [
       "<AxesSubplot:xlabel='Income', ylabel='count'>"
      ]
     },
     "execution_count": 12,
     "metadata": {},
     "output_type": "execute_result"
    },
    {
     "data": {
      "image/png": "[encoded data removed]",
      "text/plain": [
       "<Figure size 432x288 with 1 Axes>"
      ]
     },
     "metadata": {
      "needs_background": "light"
     },
     "output_type": "display_data"
    }
   ],
   "source": [
    "#Data Processing\n",
    "dataset['Income'] = dataset[\"Income\"].map({'<=50K': 1, '>50K': 0})\n",
    "sns.countplot(dataset['Income'],label=\"Income Distribution\")"
   ]
  },
  {
   "cell_type": "code",
   "execution_count": 13,
   "id": "7e52039a-e9c3-466a-bd92-301ae733fb40",
   "metadata": {},
   "outputs": [
    {
     "name": "stderr",
     "output_type": "stream",
     "text": [
      "/opt/miniconda3/lib/python3.9/site-packages/seaborn/_decorators.py:36: FutureWarning: Pass the following variable as a keyword arg: x. From version 0.12, the only valid positional argument will be `data`, and passing other arguments without an explicit keyword will result in an error or misinterpretation.\n",
      "  warnings.warn(\n"
     ]
    },
    {
     "data": {
      "text/plain": [
       "<AxesSubplot:xlabel='Gender', ylabel='count'>"
      ]
     },
     "execution_count": 13,
     "metadata": {},
     "output_type": "execute_result"
    },
    {
     "data": {
      "image/png": "[encoded data removed]",
      "text/plain": [
       "<Figure size 432x288 with 1 Axes>"
      ]
     },
     "metadata": {
      "needs_background": "light"
     },
     "output_type": "display_data"
    }
   ],
   "source": [
    "#Data Processing\n",
    "dataset['Gender'] = dataset[\"Gender\"].map({'Male': 1, 'Female': 0})\n",
    "sns.countplot(dataset['Gender'],label=\"Gender Distribution\")"
   ]
  },
  {
   "cell_type": "code",
   "execution_count": 15,
   "id": "b11eee7a-6caa-4c2b-89ca-d3c0051d0cfb",
   "metadata": {},
   "outputs": [
    {
     "name": "stderr",
     "output_type": "stream",
     "text": [
      "/opt/miniconda3/lib/python3.9/site-packages/seaborn/distributions.py:2619: FutureWarning: `distplot` is a deprecated function and will be removed in a future version. Please adapt your code to use either `displot` (a figure-level function with similar flexibility) or `histplot` (an axes-level function for histograms).\n",
      "  warnings.warn(msg, FutureWarning)\n"
     ]
    },
    {
     "data": {
      "text/plain": [
       "<AxesSubplot:xlabel='Age', ylabel='Density'>"
      ]
     },
     "execution_count": 15,
     "metadata": {},
     "output_type": "execute_result"
    },
    {
     "data": {
      "image/png": "[encoded data removed]",
      "text/plain": [
       "<Figure size 432x288 with 1 Axes>"
      ]
     },
     "metadata": {
      "needs_background": "light"
     },
     "output_type": "display_data"
    }
   ],
   "source": [
    "sns.distplot(dataset[\"Age\"])"
   ]
  },
  {
   "cell_type": "markdown",
   "id": "d167571e-04ef-4d8f-a7a2-d8fd737a342a",
   "metadata": {},
   "source": [
    "# Analysis Pipeline\n",
    "The question I want to research is wether Income and Gender are correlated and if age plays a role into this correlation (Do older women make more that youger men? Vice-Versa)\n",
    "To try to tackle this question I plotted the data given and tried to set it up in a way in which I could get a better scope of the data I was using. To do this I plotted a graph which showed the age density in the dataset. This showed that there was a stronger density around middle age people and therefore may make my data on older people less reliable since there is a smaller pool of data to analyse. As per the Gender graphs I wanted to see if they were directly proportional which in this Census data, it was not. There were almost double the amount of men than women in the pool. With the under representation of women the data may not be as precise as I would like. The income graph tells the same story, there is an over representation is people making over 50k. Observing the gender and income graphs we can see that the highest representation is of males and making over 50k which could represent the possibility of men making more than women. \n",
    "\n",
    "Notes:\n",
    "Had to re-write first line to catagorize the data columns, therefore removing 1 person which would be a negligible change since there are over 30,000 people in the dataset.\n",
    "skipinitialspace=True : This line of code had to be added in after the filtering process for finding income over and below 50k kept returning NaN.\n"
   ]
  }
 ],
 "metadata": {
  "kernelspec": {
   "display_name": "Python 3",
   "language": "python",
   "name": "python3"
  },
  "language_info": {
   "codemirror_mode": {
    "name": "ipython",
    "version": 3
   },
   "file_extension": ".py",
   "mimetype": "text/x-python",
   "name": "python",
   "nbconvert_exporter": "python",
   "pygments_lexer": "ipython3",
   "version": "3.9.5"
  }
 },
 "nbformat": 4,
 "nbformat_minor": 5
}
