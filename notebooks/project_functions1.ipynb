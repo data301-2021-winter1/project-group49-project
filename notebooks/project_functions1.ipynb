{
 "cells": [
  {
   "cell_type": "code",
   "execution_count": null,
   "id": "bcdf8a28-8e0b-4fe2-8f60-9b93ea99d524",
   "metadata": {},
   "outputs": [],
   "source": [
    "\"\"\"Can't Seem to get this to work. Could not fix it by deadline\"\"\"\n",
    "def load_and_process(url_or_path_to_csv_file):\n",
    "    dataset1 = (\n",
    "            pd.read_csv(url_or_path_to_csv_file, skipinitialspace=True)\n",
    "           .rename(columns={'39': 'Age', 'State-gov': 'WorkClass', '77516': 'fnlwgt', ' Bachelors': 'Education', 'Never-married': 'Marriage Status', 'Adm-clerical': 'Occupation', 'Not-in-family': 'Relationship', 'White': 'Race', 'Male': 'Gender', '2174': 'Capital Gain', ' 0': 'Capital Loss', '40': 'Hours Worked Per Week', 'United-States': 'Country of Origin', '<=50K': 'Income'})\n",
    "           .fillna(np.nan)\n",
    "           .shape\n",
    "            .head()\n",
    "           .columns\n",
    "           .dtypes\n",
    "          )\n",
    "    dataset = (\n",
    "        dataset1['Income'] = dataset1[\"Income\"].map({'<=50K': 1, '>50K': 0})\n",
    "        dataset1['Gender'] = dataset1[\"Gender\"].map({'Male': 1, 'Female': 0})\n",
    "    )\n",
    "    return dataset"
   ]
  }
 ],
 "metadata": {
  "kernelspec": {
   "display_name": "Python 3",
   "language": "python",
   "name": "python3"
  },
  "language_info": {
   "codemirror_mode": {
    "name": "ipython",
    "version": 3
   },
   "file_extension": ".py",
   "mimetype": "text/x-python",
   "name": "python",
   "nbconvert_exporter": "python",
   "pygments_lexer": "ipython3",
   "version": "3.9.5"
  }
 },
 "nbformat": 4,
 "nbformat_minor": 5
}
